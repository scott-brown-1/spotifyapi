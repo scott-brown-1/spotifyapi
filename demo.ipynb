{
 "cells": [
  {
   "cell_type": "code",
   "execution_count": 68,
   "metadata": {},
   "outputs": [],
   "source": [
    "import spotifyapi\n",
    "import pandas as pd\n",
    "import time"
   ]
  },
  {
   "cell_type": "markdown",
   "metadata": {},
   "source": [
    "To use the Spotify API you must have API tokens\n",
    "\n",
    "Steps to get API access:\n",
    "1. Log into the dashboard using your Spotify account @ https://developer.spotify.com/\n",
    "2. Create an app and select \"Web API\" for the question asking which APIs are you planning to use. Once you have created your app, you will have access to the app credentials (Client ID and Secret). These will be required for API authorization to obtain an access token.\n",
    "3. Use the access token in your API requests."
   ]
  },
  {
   "cell_type": "code",
   "execution_count": 7,
   "metadata": {},
   "outputs": [],
   "source": [
    "#Note that you should not share your Client ID or Secret with Anyone, but for ease of grading yolo.\n",
    "Client_ID = \"080544c4ba6b4712a6e11a98dfc2028a\"\n",
    "Client_Secret = \"93e55c34c76e4dc79b3e722cdddcf276\""
   ]
  },
  {
   "cell_type": "code",
   "execution_count": 11,
   "metadata": {},
   "outputs": [
    {
     "name": "stdout",
     "output_type": "stream",
     "text": [
      "./spotifyapi/data/access_token.json not found. Creating file and getting new token...\n",
      "API request succeeded!\n",
      "{'access_token': 'BQBNOWA8dbiaM38iGmigAlFPpQ3Zn_AkfozupKGc0SyXARgOYIfMmOFPb27I9H3KiNVwCkyMrMF8xACSE3w6Ame7q7-vqQ88Sncn2a3aGh5HkZzYSaY', 'token_type': 'Bearer', 'expires_in': 3600}\n"
     ]
    }
   ],
   "source": [
    "#Get OAuth 2.0 Tokens, if your ./data/access_token.json file is editted / corrupted / or formatted incorrectly and you are getting errors, just delete the json file and rerun this function.\n",
    "access_token = spotifyapi.get_access_token(Client_ID, Client_Secret)"
   ]
  },
  {
   "cell_type": "code",
   "execution_count": 12,
   "metadata": {},
   "outputs": [
    {
     "name": "stdout",
     "output_type": "stream",
     "text": [
      "https://api.spotify.com/v1/artists/3WrFJ7ztbogyGnTHbHJFl2/top-tracks?market=US\n",
      "Getting track data...\n",
      "API request succeeded!\n"
     ]
    }
   ],
   "source": [
    "#Make a list of artists you want to collect songs for\n",
    "artist_ids = ['3WrFJ7ztbogyGnTHbHJFl2', '3r9TXuXfOUxXjgYgAR0fP8', '0LcJLqbBmaGUft1e9Mm8HV', '6A43Djmhbe9100UwnI7epV', '1HY2Jd0NmPuamShAr6KMms', '3jOstUTkEu2JkjvRdBA5Gu']\n",
    "market = 'US'"
   ]
  },
  {
   "cell_type": "code",
   "execution_count": 38,
   "metadata": {},
   "outputs": [
    {
     "name": "stdout",
     "output_type": "stream",
     "text": [
      "https://api.spotify.com/v1/artists/3WrFJ7ztbogyGnTHbHJFl2/top-tracks?market=US\n",
      "Getting track data...\n",
      "API request succeeded!\n",
      "https://api.spotify.com/v1/artists/3r9TXuXfOUxXjgYgAR0fP8/top-tracks?market=US\n",
      "Getting track data...\n",
      "API request succeeded!\n",
      "https://api.spotify.com/v1/artists/0LcJLqbBmaGUft1e9Mm8HV/top-tracks?market=US\n",
      "Getting track data...\n",
      "API request succeeded!\n",
      "https://api.spotify.com/v1/artists/6A43Djmhbe9100UwnI7epV/top-tracks?market=US\n",
      "Getting track data...\n",
      "API request succeeded!\n",
      "https://api.spotify.com/v1/artists/1HY2Jd0NmPuamShAr6KMms/top-tracks?market=US\n",
      "Getting track data...\n",
      "API request succeeded!\n",
      "https://api.spotify.com/v1/artists/3jOstUTkEu2JkjvRdBA5Gu/top-tracks?market=US\n",
      "Getting track data...\n",
      "API request succeeded!\n"
     ]
    }
   ],
   "source": [
    "artist_name = []\n",
    "artist_id_list = []\n",
    "track_name = []\n",
    "track_id_list = []\n",
    "\n",
    "for artist in artist_ids:\n",
    "    #sleeping between requests so as to not get timed out by the spotify api. Example should take about 1 minute.\n",
    "    time.sleep(10)\n",
    "    response = spotifyapi.get_artist_top_tracks(artist, access_token=access_token, market=market)\n",
    "    for track in response['tracks']:\n",
    "        # Extracting the first artist's name\n",
    "        artist_name_var = track['artists'][0]['name']\n",
    "        artist_name.append(artist_name_var)\n",
    "\n",
    "        # Extracting the track name\n",
    "        track_name_var = track['name']\n",
    "        track_name.append(track_name_var)\n",
    "\n",
    "        # Extracting the first artist's id\n",
    "        artist_id_var = track['artists'][0]['id']\n",
    "        artist_id_list.append(artist_id_var)\n",
    "\n",
    "        # Extracting the track id\n",
    "        track_id_var = track['id']\n",
    "        track_id_list.append(track_id_var)\n",
    "\n",
    "track_df = pd.DataFrame({\n",
    "    'Artist': artist_name,\n",
    "    'artist_id': artist_id_list,\n",
    "    'Track Name': track_name,\n",
    "    'track_id': track_id_list\n",
    "})"
   ]
  },
  {
   "cell_type": "code",
   "execution_count": 51,
   "metadata": {},
   "outputs": [
    {
     "name": "stdout",
     "output_type": "stream",
     "text": [
      "https://api.spotify.com/v1/artists?ids=3WrFJ7ztbogyGnTHbHJFl2,1HY2Jd0NmPuamShAr6KMms,3r9TXuXfOUxXjgYgAR0fP8,6A43Djmhbe9100UwnI7epV,3jOstUTkEu2JkjvRdBA5Gu,0LcJLqbBmaGUft1e9Mm8HV,6USv9qhCn6zfxlBQIYJ9qs\n",
      "Getting artists data...\n",
      "API request succeeded!\n"
     ]
    },
    {
     "data": {
      "text/plain": [
       "{'artists': [{'external_urls': {'spotify': 'https://open.spotify.com/artist/3WrFJ7ztbogyGnTHbHJFl2'},\n",
       "   'followers': {'href': None, 'total': 26810844},\n",
       "   'genres': ['british invasion',\n",
       "    'classic rock',\n",
       "    'merseybeat',\n",
       "    'psychedelic rock',\n",
       "    'rock'],\n",
       "   'href': 'https://api.spotify.com/v1/artists/3WrFJ7ztbogyGnTHbHJFl2',\n",
       "   'id': '3WrFJ7ztbogyGnTHbHJFl2',\n",
       "   'images': [{'height': 640,\n",
       "     'url': 'https://i.scdn.co/image/ab6761610000e5ebe9348cc01ff5d55971b22433',\n",
       "     'width': 640},\n",
       "    {'height': 320,\n",
       "     'url': 'https://i.scdn.co/image/ab67616100005174e9348cc01ff5d55971b22433',\n",
       "     'width': 320},\n",
       "    {'height': 160,\n",
       "     'url': 'https://i.scdn.co/image/ab6761610000f178e9348cc01ff5d55971b22433',\n",
       "     'width': 160}],\n",
       "   'name': 'The Beatles',\n",
       "   'popularity': 83,\n",
       "   'type': 'artist',\n",
       "   'uri': 'spotify:artist:3WrFJ7ztbogyGnTHbHJFl2'},\n",
       "  {'external_urls': {'spotify': 'https://open.spotify.com/artist/1HY2Jd0NmPuamShAr6KMms'},\n",
       "   'followers': {'href': None, 'total': 28822420},\n",
       "   'genres': ['art pop', 'dance pop', 'pop'],\n",
       "   'href': 'https://api.spotify.com/v1/artists/1HY2Jd0NmPuamShAr6KMms',\n",
       "   'id': '1HY2Jd0NmPuamShAr6KMms',\n",
       "   'images': [{'height': 640,\n",
       "     'url': 'https://i.scdn.co/image/ab6761610000e5ebc8d3d98a1bccbe71393dbfbf',\n",
       "     'width': 640},\n",
       "    {'height': 320,\n",
       "     'url': 'https://i.scdn.co/image/ab67616100005174c8d3d98a1bccbe71393dbfbf',\n",
       "     'width': 320},\n",
       "    {'height': 160,\n",
       "     'url': 'https://i.scdn.co/image/ab6761610000f178c8d3d98a1bccbe71393dbfbf',\n",
       "     'width': 160}],\n",
       "   'name': 'Lady Gaga',\n",
       "   'popularity': 83,\n",
       "   'type': 'artist',\n",
       "   'uri': 'spotify:artist:1HY2Jd0NmPuamShAr6KMms'},\n",
       "  {'external_urls': {'spotify': 'https://open.spotify.com/artist/3r9TXuXfOUxXjgYgAR0fP8'},\n",
       "   'followers': {'href': None, 'total': 200036},\n",
       "   'genres': ['bubblegum pop'],\n",
       "   'href': 'https://api.spotify.com/v1/artists/3r9TXuXfOUxXjgYgAR0fP8',\n",
       "   'id': '3r9TXuXfOUxXjgYgAR0fP8',\n",
       "   'images': [{'height': 640,\n",
       "     'url': 'https://i.scdn.co/image/ab6761610000e5eb4a0ccebdfd085c487d312199',\n",
       "     'width': 640},\n",
       "    {'height': 320,\n",
       "     'url': 'https://i.scdn.co/image/ab676161000051744a0ccebdfd085c487d312199',\n",
       "     'width': 320},\n",
       "    {'height': 160,\n",
       "     'url': 'https://i.scdn.co/image/ab6761610000f1784a0ccebdfd085c487d312199',\n",
       "     'width': 160}],\n",
       "   'name': 'Bay City Rollers',\n",
       "   'popularity': 43,\n",
       "   'type': 'artist',\n",
       "   'uri': 'spotify:artist:3r9TXuXfOUxXjgYgAR0fP8'},\n",
       "  {'external_urls': {'spotify': 'https://open.spotify.com/artist/6A43Djmhbe9100UwnI7epV'},\n",
       "   'followers': {'href': None, 'total': 1122761},\n",
       "   'genres': ['alternative rock',\n",
       "    'pop rock',\n",
       "    'post-grunge',\n",
       "    'sacramento indie'],\n",
       "   'href': 'https://api.spotify.com/v1/artists/6A43Djmhbe9100UwnI7epV',\n",
       "   'id': '6A43Djmhbe9100UwnI7epV',\n",
       "   'images': [{'height': 640,\n",
       "     'url': 'https://i.scdn.co/image/ab6761610000e5ebb8bf71301acec36f0256c0f8',\n",
       "     'width': 640},\n",
       "    {'height': 320,\n",
       "     'url': 'https://i.scdn.co/image/ab67616100005174b8bf71301acec36f0256c0f8',\n",
       "     'width': 320},\n",
       "    {'height': 160,\n",
       "     'url': 'https://i.scdn.co/image/ab6761610000f178b8bf71301acec36f0256c0f8',\n",
       "     'width': 160}],\n",
       "   'name': 'CAKE',\n",
       "   'popularity': 59,\n",
       "   'type': 'artist',\n",
       "   'uri': 'spotify:artist:6A43Djmhbe9100UwnI7epV'},\n",
       "  {'external_urls': {'spotify': 'https://open.spotify.com/artist/3jOstUTkEu2JkjvRdBA5Gu'},\n",
       "   'followers': {'href': None, 'total': 3304637},\n",
       "   'genres': ['alternative rock',\n",
       "    'modern power pop',\n",
       "    'modern rock',\n",
       "    'permanent wave',\n",
       "    'rock'],\n",
       "   'href': 'https://api.spotify.com/v1/artists/3jOstUTkEu2JkjvRdBA5Gu',\n",
       "   'id': '3jOstUTkEu2JkjvRdBA5Gu',\n",
       "   'images': [{'height': 640,\n",
       "     'url': 'https://i.scdn.co/image/ab6761610000e5ebcff30a7278638dfd7e2726a9',\n",
       "     'width': 640},\n",
       "    {'height': 320,\n",
       "     'url': 'https://i.scdn.co/image/ab67616100005174cff30a7278638dfd7e2726a9',\n",
       "     'width': 320},\n",
       "    {'height': 160,\n",
       "     'url': 'https://i.scdn.co/image/ab6761610000f178cff30a7278638dfd7e2726a9',\n",
       "     'width': 160}],\n",
       "   'name': 'Weezer',\n",
       "   'popularity': 71,\n",
       "   'type': 'artist',\n",
       "   'uri': 'spotify:artist:3jOstUTkEu2JkjvRdBA5Gu'},\n",
       "  {'external_urls': {'spotify': 'https://open.spotify.com/artist/0LcJLqbBmaGUft1e9Mm8HV'},\n",
       "   'followers': {'href': None, 'total': 11386334},\n",
       "   'genres': ['europop', 'swedish pop'],\n",
       "   'href': 'https://api.spotify.com/v1/artists/0LcJLqbBmaGUft1e9Mm8HV',\n",
       "   'id': '0LcJLqbBmaGUft1e9Mm8HV',\n",
       "   'images': [{'height': 640,\n",
       "     'url': 'https://i.scdn.co/image/ab6761610000e5eb0577327b931579bd649750c4',\n",
       "     'width': 640},\n",
       "    {'height': 320,\n",
       "     'url': 'https://i.scdn.co/image/ab676161000051740577327b931579bd649750c4',\n",
       "     'width': 320},\n",
       "    {'height': 160,\n",
       "     'url': 'https://i.scdn.co/image/ab6761610000f1780577327b931579bd649750c4',\n",
       "     'width': 160}],\n",
       "   'name': 'ABBA',\n",
       "   'popularity': 77,\n",
       "   'type': 'artist',\n",
       "   'uri': 'spotify:artist:0LcJLqbBmaGUft1e9Mm8HV'},\n",
       "  {'external_urls': {'spotify': 'https://open.spotify.com/artist/6USv9qhCn6zfxlBQIYJ9qs'},\n",
       "   'followers': {'href': None, 'total': 1447297},\n",
       "   'genres': ['alternative pop rock', 'pov: indie'],\n",
       "   'href': 'https://api.spotify.com/v1/artists/6USv9qhCn6zfxlBQIYJ9qs',\n",
       "   'id': '6USv9qhCn6zfxlBQIYJ9qs',\n",
       "   'images': [{'height': 640,\n",
       "     'url': 'https://i.scdn.co/image/ab6761610000e5ebbe491d3676793a1697c61254',\n",
       "     'width': 640},\n",
       "    {'height': 320,\n",
       "     'url': 'https://i.scdn.co/image/ab67616100005174be491d3676793a1697c61254',\n",
       "     'width': 320},\n",
       "    {'height': 160,\n",
       "     'url': 'https://i.scdn.co/image/ab6761610000f178be491d3676793a1697c61254',\n",
       "     'width': 160}],\n",
       "   'name': 'Dominic Fike',\n",
       "   'popularity': 75,\n",
       "   'type': 'artist',\n",
       "   'uri': 'spotify:artist:6USv9qhCn6zfxlBQIYJ9qs'}]}"
      ]
     },
     "execution_count": 51,
     "metadata": {},
     "output_type": "execute_result"
    }
   ],
   "source": [
    "unique_artist_ids = list(set(artist_id_list))\n",
    "unique_artist_ids\n",
    "\n",
    "response = spotifyapi.get_artists(unique_artist_ids, access_token)\n",
    "response"
   ]
  },
  {
   "cell_type": "code",
   "execution_count": 62,
   "metadata": {},
   "outputs": [],
   "source": [
    "artist_name_column = []\n",
    "artist_id_column = []\n",
    "genres_column = []\n",
    "followers_column = []\n",
    "popularity_column = []\n",
    "\n",
    "# Loop through the 'artists' in the response\n",
    "for artist in response['artists']:\n",
    "    # Extracting values for each column\n",
    "    artist_name_column.append(artist['name'])\n",
    "    artist_id_column.append(artist['id'])\n",
    "    genres_column.append(','.join(artist['genres']))\n",
    "    followers_column.append(artist['followers']['total'])\n",
    "    popularity_column.append(artist['popularity'])\n",
    "\n",
    "# Creating a DataFrame\n",
    "artist_df = pd.DataFrame({\n",
    "    'artist_name': artist_name_column,\n",
    "    'artist_id': artist_id_column,\n",
    "    'genres': genres_column,\n",
    "    'followers': followers_column,\n",
    "    'popularity': popularity_column\n",
    "})"
   ]
  },
  {
   "cell_type": "code",
   "execution_count": 44,
   "metadata": {},
   "outputs": [],
   "source": [
    "audio_features = spotifyapi.get_tracks_audio_features(track_id_list, access_token)\n",
    "\n",
    "rows = []\n",
    "\n",
    "for i, track_id in enumerate(track_id_list):\n",
    "    # Create a dictionary for each row\n",
    "    row_dict = {\"track_ids\": track_id}\n",
    "    \n",
    "    # Add key-value pairs for each audio feature\n",
    "    for feature_key, feature_value in audio_features[\"audio_features\"][i].items():\n",
    "        row_dict[feature_key] = feature_value\n",
    "    \n",
    "    # Append the row dictionary to the list\n",
    "    rows.append(row_dict)\n",
    "\n",
    "# Create a DataFrame from the list of rows\n",
    "audio_features_df = pd.DataFrame(rows)"
   ]
  },
  {
   "cell_type": "code",
   "execution_count": 70,
   "metadata": {},
   "outputs": [
    {
     "ename": "AttributeError",
     "evalue": "module 'spotifyapi' has no attribute 'join_tables'",
     "output_type": "error",
     "traceback": [
      "\u001b[0;31m---------------------------------------------------------------------------\u001b[0m",
      "\u001b[0;31mAttributeError\u001b[0m                            Traceback (most recent call last)",
      "Cell \u001b[0;32mIn[70], line 1\u001b[0m\n\u001b[0;32m----> 1\u001b[0m final_df \u001b[38;5;241m=\u001b[39m \u001b[43mspotifyapi\u001b[49m\u001b[38;5;241;43m.\u001b[39;49m\u001b[43mjoin_tables\u001b[49m(track_df, artist_df, audio_features_df)\n\u001b[1;32m      2\u001b[0m final_df\n",
      "\u001b[0;31mAttributeError\u001b[0m: module 'spotifyapi' has no attribute 'join_tables'"
     ]
    }
   ],
   "source": [
    "final_df = spotifyapi.join_tables(track_df, artist_df, audio_features_df)\n",
    "final_df"
   ]
  }
 ],
 "metadata": {
  "kernelspec": {
   "display_name": "Python 3",
   "language": "python",
   "name": "python3"
  },
  "language_info": {
   "codemirror_mode": {
    "name": "ipython",
    "version": 3
   },
   "file_extension": ".py",
   "mimetype": "text/x-python",
   "name": "python",
   "nbconvert_exporter": "python",
   "pygments_lexer": "ipython3",
   "version": "3.9.6"
  }
 },
 "nbformat": 4,
 "nbformat_minor": 2
}
