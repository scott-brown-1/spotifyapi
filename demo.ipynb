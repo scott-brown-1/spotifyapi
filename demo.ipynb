{
 "cells": [
  {
   "cell_type": "code",
   "execution_count": 29,
   "metadata": {},
   "outputs": [],
   "source": [
    "import spotifyapi\n",
    "import pandas as pd\n",
    "import requests"
   ]
  },
  {
   "cell_type": "markdown",
   "metadata": {},
   "source": [
    "To use the Spotify API you must have API tokens\n",
    "\n",
    "Steps to get API access:\n",
    "1. Log into the dashboard using your Spotify account @ https://developer.spotify.com/\n",
    "2. Create an app and select \"Web API\" for the question asking which APIs are you planning to use. Once you have created your app, you will have access to the app credentials (Client ID and Secret). These will be required for API authorization to obtain an access token.\n",
    "3. Use the access token in your API requests."
   ]
  },
  {
   "cell_type": "code",
   "execution_count": 30,
   "metadata": {},
   "outputs": [],
   "source": [
    "#Note that you should not share your Client ID or Secret with Anyone\n",
    "Client_ID = \"080544c4ba6b4712a6e11a98dfc2028a\"\n",
    "Client_Secret = \"ea7788b2d5984d06998de2d83940da44\""
   ]
  },
  {
   "cell_type": "code",
   "execution_count": 31,
   "metadata": {},
   "outputs": [
    {
     "name": "stdout",
     "output_type": "stream",
     "text": [
      "Using existing token...\n"
     ]
    }
   ],
   "source": [
    "#Get OAuth 2.0 Tokens\n",
    "access_token = spotifyapi.get_access_token(Client_ID, Client_Secret)"
   ]
  },
  {
   "cell_type": "code",
   "execution_count": 32,
   "metadata": {},
   "outputs": [
    {
     "name": "stdout",
     "output_type": "stream",
     "text": [
      "https://api.spotify.com/v1/audio-features?ids=1BxfuPKGuaTgP7aM0Bbdwr,4esOae7i4rqTbAu9o5Pxco,72ahyckBJfTigJCFCviVN7,4dneV7C1yDt9UtyxrQY375\n",
      "Getting audio feature data...\n",
      "API request succeeded!\n"
     ]
    }
   ],
   "source": [
    "track_ids = ['1BxfuPKGuaTgP7aM0Bbdwr', '4esOae7i4rqTbAu9o5Pxco', '72ahyckBJfTigJCFCviVN7', '4dneV7C1yDt9UtyxrQY375']\n",
    "audio_features = spotifyapi.get_tracks_audio_features(track_ids, access_token)"
   ]
  },
  {
   "cell_type": "code",
   "execution_count": null,
   "metadata": {},
   "outputs": [],
   "source": [
    "rows = []\n",
    "\n",
    "for i, track_id in enumerate(track_ids):\n",
    "    # Create a dictionary for each row\n",
    "    row_dict = {\"track_ids\": track_id}\n",
    "    \n",
    "    # Add key-value pairs for each audio feature\n",
    "    for feature_key, feature_value in audio_features[\"audio_features\"][i].items():\n",
    "        row_dict[feature_key] = feature_value\n",
    "    \n",
    "    # Append the row dictionary to the list\n",
    "    rows.append(row_dict)\n",
    "\n",
    "# Create a DataFrame from the list of rows\n",
    "audio_features_df = pd.DataFrame(rows)"
   ]
  },
  {
   "cell_type": "code",
   "execution_count": null,
   "metadata": {},
   "outputs": [],
   "source": [
    "#There's no track data endpoint to get artist for a track"
   ]
  }
 ],
 "metadata": {
  "kernelspec": {
   "display_name": "Python 3",
   "language": "python",
   "name": "python3"
  },
  "language_info": {
   "codemirror_mode": {
    "name": "ipython",
    "version": 3
   },
   "file_extension": ".py",
   "mimetype": "text/x-python",
   "name": "python",
   "nbconvert_exporter": "python",
   "pygments_lexer": "ipython3",
   "version": "3.9.6"
  }
 },
 "nbformat": 4,
 "nbformat_minor": 2
}
